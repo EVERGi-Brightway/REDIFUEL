{
 "cells": [
  {
   "cell_type": "markdown",
   "id": "e8f46f50",
   "metadata": {},
   "source": [
    "# Prospective database creation"
   ]
  },
  {
   "cell_type": "markdown",
   "id": "1534b5bd",
   "metadata": {},
   "source": [
    "This notebook shows how to create the prospective databases used for the LCA of REDIFUEL with premise.\n",
    "For the installation and requirements of premise, see: https://github.com/romainsacchi/premise"
   ]
  },
  {
   "cell_type": "markdown",
   "id": "0e3be4c6",
   "metadata": {},
   "source": [
    "## Create truck inventory with carculator_truck"
   ]
  },
  {
   "cell_type": "markdown",
   "id": "5b009006",
   "metadata": {},
   "source": [
    "The 40t truck inventories are not in the premise db and need to be created first with carculator_truck (automatically installed with premise)"
   ]
  },
  {
   "cell_type": "code",
   "execution_count": 1,
   "id": "bf71c0a2",
   "metadata": {},
   "outputs": [],
   "source": [
    "from carculator_truck import *\n",
    "import matplotlib.pyplot as plt"
   ]
  },
  {
   "cell_type": "code",
   "execution_count": 2,
   "id": "83fbcb6a",
   "metadata": {},
   "outputs": [],
   "source": [
    "tip = TruckInputParameters()\n",
    "tip.static()\n",
    "_, array = fill_xarray_from_input_parameters(tip,\n",
    "                                             scope={\"powertrain\":[\"ICEV-d\",\"ICEV-g\",\"FCEV\"],\n",
    "                                                    \"size\":[\"40t\"],\n",
    "                                                    \"year\": [2020, 2030, 2050]\n",
    "                                                   }\n",
    "                                            )"
   ]
  },
  {
   "cell_type": "code",
   "execution_count": 4,
   "id": "f874adb5",
   "metadata": {},
   "outputs": [
    {
     "name": "stdout",
     "output_type": "stream",
     "text": [
      "Long haul driving cycle is selected. \n",
      "Vehicles will be designed to achieve a minimal range of 800 km.\n",
      "\n"
     ]
    }
   ],
   "source": [
    "tm = TruckModel(array, cycle=\"Long haul\", country=\"FI\")"
   ]
  },
  {
   "cell_type": "code",
   "execution_count": 5,
   "id": "5348901f",
   "metadata": {},
   "outputs": [
    {
     "name": "stdout",
     "output_type": "stream",
     "text": [
      "Finding solutions for trucks...\n",
      "\n",
      "Payload (in tons)\n",
      "'-' BEV with driving mass superior to the permissible gross weight.\n",
      "'*' ICEV that do not comply with the set energy reduction target.\n",
      "'/' vehicles not available for the specified year.\n",
      "+--------------+------+\n",
      "|              | 40t  |\n",
      "+--------------+------+\n",
      "| ICEV-d, 2020 | 8.8  |\n",
      "| ICEV-d, 2030 | 8.8* |\n",
      "| ICEV-d, 2050 | 8.8  |\n",
      "| ICEV-g, 2020 | 8.8  |\n",
      "| ICEV-g, 2030 | 8.8* |\n",
      "| ICEV-g, 2050 | 8.8  |\n",
      "|  FCEV, 2020  | 8.8  |\n",
      "|  FCEV, 2030  | 8.8  |\n",
      "|  FCEV, 2050  | 8.8  |\n",
      "+--------------+------+\n"
     ]
    },
    {
     "name": "stderr",
     "output_type": "stream",
     "text": [
      "C:\\Users\\avdoever\\Anaconda3\\envs\\premise\\lib\\site-packages\\xarray\\core\\dataarray.py:746: FutureWarning: elementwise comparison failed; returning scalar instead, but in the future will perform elementwise comparison\n",
      "  return key in self.data\n"
     ]
    }
   ],
   "source": [
    "tm.set_all()"
   ]
  },
  {
   "cell_type": "code",
   "execution_count": 6,
   "id": "36873a2a",
   "metadata": {},
   "outputs": [],
   "source": [
    "ic = InventoryCalculation(tm)"
   ]
  },
  {
   "cell_type": "code",
   "execution_count": 7,
   "id": "2c63cac8",
   "metadata": {},
   "outputs": [
    {
     "name": "stdout",
     "output_type": "stream",
     "text": [
      "****************** IMPORTANT BACKGROUND PARAMETERS ******************\n",
      " * The country of use is FI\n",
      " * Energy batteries produced in CN using NMC-111 for FCEV, .\n",
      " * in 2020, % of renewable: 0%, GHG intensity per kWh: 0 g. CO2-eq.\n",
      " \t * in 2030, % of renewable: 0%, GHG intensity per kWh: 0 g. CO2-eq.\n",
      " \t * in 2050, % of renewable: 0%, GHG intensity per kWh: 0 g. CO2-eq.\n",
      " * electrolysis is completed by smr - natural gas.\n",
      " \t * in 2020 _________________________________________ 0%\n",
      " \t * in 2030 _________________________________________ 0%\n",
      " \t * in 2050 _________________________________________ 0%\n",
      " * cng is completed by biogas - sewage sludge.\n",
      " \t * in 2020 _________________________________________ 2.0%\n",
      " \t * in 2030 _________________________________________ 6.0%\n",
      " \t * in 2050 _________________________________________ 12.0%\n",
      " * diesel is completed by biodiesel - cooking oil.\n",
      " \t * in 2020 _________________________________________ 2.0%\n",
      " \t * in 2030 _________________________________________ 6.0%\n",
      " \t * in 2050 _________________________________________ 12.0%\n",
      " * *********************************************************************\n"
     ]
    },
    {
     "name": "stderr",
     "output_type": "stream",
     "text": [
      "0% [##############################] 100% | ETA: 00:00:00 | Item ID: 1019\n",
      "Total time elapsed: 00:00:00\n"
     ]
    },
    {
     "name": "stdout",
     "output_type": "stream",
     "text": [
      "Inventories exported to 40t-trucks-Finland.xlsx.\n"
     ]
    }
   ],
   "source": [
    "ic.export_lci_to_excel(\n",
    "    software_compatibility=\"brightway2\",\n",
    "    ecoinvent_version=\"3.7\",\n",
    "    ecoinvent_compatibility=True,\n",
    "    filename=\"40t trucks Finland\"\n",
    ")"
   ]
  },
  {
   "cell_type": "code",
   "execution_count": 8,
   "id": "0138c7c1",
   "metadata": {},
   "outputs": [],
   "source": [
    "tip = TruckInputParameters()\n",
    "tip.static()\n",
    "_, array = fill_xarray_from_input_parameters(tip, scope={\"powertrain\":[\"ICEV-d\",\"ICEV-g\",\"FCEV\"], \"size\":[\"40t\"], \"year\": [2020, 2030, 2050]})"
   ]
  },
  {
   "cell_type": "code",
   "execution_count": 12,
   "id": "f4772b0c",
   "metadata": {},
   "outputs": [
    {
     "name": "stdout",
     "output_type": "stream",
     "text": [
      "Long haul driving cycle is selected. \n",
      "Vehicles will be designed to achieve a minimal range of 800 km.\n",
      "\n"
     ]
    }
   ],
   "source": [
    "tm = TruckModel(array, cycle=\"Long haul\")"
   ]
  },
  {
   "cell_type": "code",
   "execution_count": 13,
   "id": "77c7697a",
   "metadata": {},
   "outputs": [
    {
     "name": "stdout",
     "output_type": "stream",
     "text": [
      "Finding solutions for trucks...\n",
      "\n",
      "Payload (in tons)\n",
      "'-' BEV with driving mass superior to the permissible gross weight.\n",
      "'*' ICEV that do not comply with the set energy reduction target.\n",
      "'/' vehicles not available for the specified year.\n",
      "+--------------+------+\n",
      "|              | 40t  |\n",
      "+--------------+------+\n",
      "| ICEV-d, 2020 | 8.8  |\n",
      "| ICEV-d, 2030 | 8.8* |\n",
      "| ICEV-d, 2050 | 8.8  |\n",
      "| ICEV-g, 2020 | 8.8  |\n",
      "| ICEV-g, 2030 | 8.8* |\n",
      "| ICEV-g, 2050 | 8.8  |\n",
      "|  FCEV, 2020  | 8.8  |\n",
      "|  FCEV, 2030  | 8.8  |\n",
      "|  FCEV, 2050  | 8.8  |\n",
      "+--------------+------+\n"
     ]
    },
    {
     "name": "stderr",
     "output_type": "stream",
     "text": [
      "C:\\Users\\avdoever\\Anaconda3\\envs\\premise\\lib\\site-packages\\xarray\\core\\dataarray.py:746: FutureWarning: elementwise comparison failed; returning scalar instead, but in the future will perform elementwise comparison\n",
      "  return key in self.data\n"
     ]
    }
   ],
   "source": [
    "tm.set_all()"
   ]
  },
  {
   "cell_type": "code",
   "execution_count": 14,
   "id": "6cf19099",
   "metadata": {},
   "outputs": [
    {
     "name": "stdout",
     "output_type": "stream",
     "text": [
      "****************** IMPORTANT BACKGROUND PARAMETERS ******************\n",
      " * The country of use is RER\n",
      " * Energy batteries produced in CN using NMC-111 for FCEV, .\n",
      " * in 2020, % of renewable: 0%, GHG intensity per kWh: 0 g. CO2-eq.\n",
      " \t * in 2030, % of renewable: 0%, GHG intensity per kWh: 0 g. CO2-eq.\n",
      " \t * in 2050, % of renewable: 0%, GHG intensity per kWh: 0 g. CO2-eq.\n",
      " * electrolysis is completed by smr - natural gas.\n",
      " \t * in 2020 _________________________________________ 0%\n",
      " \t * in 2030 _________________________________________ 0%\n",
      " \t * in 2050 _________________________________________ 0%\n",
      " * cng is completed by biogas - sewage sludge.\n",
      " \t * in 2020 _________________________________________ 2.0%\n",
      " \t * in 2030 _________________________________________ 6.0%\n",
      " \t * in 2050 _________________________________________ 12.0%\n",
      " * diesel is completed by biodiesel - cooking oil.\n",
      " \t * in 2020 _________________________________________ 2.0%\n",
      " \t * in 2030 _________________________________________ 6.0%\n",
      " \t * in 2050 _________________________________________ 12.0%\n",
      " * *********************************************************************\n"
     ]
    },
    {
     "name": "stderr",
     "output_type": "stream",
     "text": [
      "0% [##############################] 100% | ETA: 00:00:00 | Item ID: 1019\n",
      "Total time elapsed: 00:00:00\n"
     ]
    },
    {
     "name": "stdout",
     "output_type": "stream",
     "text": [
      "Inventories exported to 40t-trucks-EU.xlsx.\n"
     ]
    }
   ],
   "source": [
    "ic = InventoryCalculation(tm)\n",
    "ic.export_lci_to_excel(\n",
    "    software_compatibility=\"brightway2\",\n",
    "    ecoinvent_version=\"3.7\",\n",
    "    ecoinvent_compatibility=True,\n",
    "    filename=\"40t trucks EU\"\n",
    ")"
   ]
  },
  {
   "cell_type": "markdown",
   "id": "6a68b51d",
   "metadata": {},
   "source": [
    "important: you need to rename the truck tranpsort datasets in the excel files to something else than \"transport, freight, lorry\", as those will otherwise be delieted by premise. Not a great behavior and something we should fix in the future."
   ]
  },
  {
   "cell_type": "markdown",
   "id": "29e4a17d",
   "metadata": {},
   "source": [
    "## Include truck inventories in premise db"
   ]
  },
  {
   "cell_type": "code",
   "execution_count": 15,
   "id": "43ef1b1a",
   "metadata": {},
   "outputs": [],
   "source": [
    "from premise import *\n",
    "import brightway2 as bw"
   ]
  },
  {
   "cell_type": "code",
   "execution_count": 16,
   "id": "dea67ad8",
   "metadata": {},
   "outputs": [
    {
     "data": {
      "text/plain": [
       "Databases dictionary with 17 object(s):\n",
       "\t\n",
       "\tBEniVer Synthese\n",
       "\tBEniVer Wasserstoff\n",
       "\tCO2 capture\n",
       "\tCarculator FT\n",
       "\tCarculator market mix\n",
       "\tREDIFUEL\n",
       "\tWater\n",
       "\tadditional_biosphere\n",
       "\tbiosphere3\n",
       "\tcarculator db\n",
       "\tcutoff36\n",
       "\tcutoff37\n",
       "\tecoinvent_cutoff36\n",
       "\tei37_cutoff_IMAGE_SSP2_SS\n",
       "\telectricity\n",
       "\tsuper_db_2021-10-06"
      ]
     },
     "execution_count": 16,
     "metadata": {},
     "output_type": "execute_result"
    }
   ],
   "source": [
    "bw.projects.set_current(\"REDIFUEL\")\n",
    "bw.databases"
   ]
  },
  {
   "cell_type": "markdown",
   "id": "5fcffc9f",
   "metadata": {},
   "source": [
    "The following REMIND IAM files come with the library:\n",
    "\n",
    "SSP2\n",
    "Base: counter-factual scenario with no climate policy implemented\n",
    "\n",
    "NPi (National Policies implemented): scenario  describes energy,  climate  and  economic  projections for the  period  until 2030, and equivalent efforts thereafter. See CD-LINKS modelling protocol for details.\n",
    "\n",
    "NDC: All emission reductions and other mitigation commitments of the NationallyDetermined Contributions under the Paris Agreement are implemented. See CD-LINKS modelling protocol for details.\n",
    "\n",
    "PkBudg 1300/1100/900: Climate policies to limit cumulative 2011-2100 CO2 emissions to 1300 / 1100 / 900 over the entire time horizon (“not-to-exceed”). Correspond to 2°, well-below 2° and 1.5° targets. Other greenhouse gases are priced with the CO2e-price using 100year global warming potentials.\n",
    "The following IMAGE IAM file comes with the library:\n",
    "\n",
    "\n",
    "SSP2\n",
    "Base counter-factual scenario with no climate policy implemented\n",
    "RCP 2.6: limits radiative forcing to 2.6 W/m^2 by 2100\n",
    "RCP 1.9: limits radiative forcing to 1.9 W/m^2 by 2100\n",
    "If you wish to use those scenarios, you need to request (by email) an encryption key from the maintainers. You can however use any other compatible IAM files.\n",
    "\n",
    "\n",
    "Additionally, a number of inventories for emerging technologies are added upon the creation of a new database.\n",
    "\n",
    "electricity production using various fuels (including biomass and biogas) with Carbon Capture and Storage (CCS) Volkart et al. 2013\n",
    "hydrogen production from electrolysis from different world regions,\n",
    "hydrogen production from steam methane reforming (SMR) and auto-thermal reforming (ATR) of natural gas and biogas, with and without CCS Antonini et al. 2020\n",
    "hydrogen production from coal gasification Simons, Bauer. 2011\n",
    "hydrogen production from woody biomass gasification, with and without CCS Antonini et al. 2021\n",
    "synthetic fuels from Fischer-Tropsh (diesel), Methanol-to-liquid (gasoline) and electrochemical methanation (gas) processes, using direct air capture (DAC) Zhang et al. 2019, van der Giesen et al. 2014, Hank et al. 2019, Grimmer at al. 1988, Terlouw et al.\n",
    "current and future passenger car inventories from the library carculator\n",
    "current and future medium and heavy duty trucks from the library carculator_truck\n",
    "current and future various two-wheelers and collective means of transport (buses, trams, etc.)PSI"
   ]
  },
  {
   "cell_type": "code",
   "execution_count": 17,
   "id": "e83a99cc",
   "metadata": {},
   "outputs": [
    {
     "name": "stdout",
     "output_type": "stream",
     "text": [
      "\n",
      "////////////////////// EXTRACTING SOURCE DATABASE ///////////////////////\n",
      "Getting activity data\n"
     ]
    },
    {
     "name": "stderr",
     "output_type": "stream",
     "text": [
      "100%|█████████████████████████████████████████████████████████████████████████| 19128/19128 [00:00<00:00, 68240.44it/s]\n",
      "  0%|                                                                                       | 0/621717 [00:00<?, ?it/s]"
     ]
    },
    {
     "name": "stdout",
     "output_type": "stream",
     "text": [
      "Adding exchange data to activities\n"
     ]
    },
    {
     "name": "stderr",
     "output_type": "stream",
     "text": [
      "100%|███████████████████████████████████████████████████████████████████████| 621717/621717 [00:31<00:00, 19727.10it/s]\n"
     ]
    },
    {
     "name": "stdout",
     "output_type": "stream",
     "text": [
      "Filling out exchange data\n"
     ]
    },
    {
     "name": "stderr",
     "output_type": "stream",
     "text": [
      "100%|██████████████████████████████████████████████████████████████████████████| 19128/19128 [00:03<00:00, 5892.24it/s]\n"
     ]
    },
    {
     "name": "stdout",
     "output_type": "stream",
     "text": [
      "Set missing location of datasets to global scope.\n",
      "Set missing location of production exchanges to scope of dataset.\n",
      "Correct missing location of technosphere exchanges.\n",
      "Correct missing flow categories for biosphere exchanges\n",
      "Remove empty exchanges.\n",
      "\n",
      "/////////////////// IMPORTING DEFAULT INVENTORIES ////////////////////\n",
      "Importing necessary inventories...\n",
      "\n",
      "Done!\n",
      "\n",
      "\n",
      "/////////////////// IMPORTING USER-DEFINED INVENTORIES ////////////////////\n",
      "Extracted 1 worksheets in 37.09 seconds\n",
      "Extracted 1 worksheets in 28.24 seconds\n",
      "The following datasets to import already exist in the source database. They will not be imported\n",
      "+----------------------------------------------------+--------------------------------+----------+--------------------+\n",
      "|                        Name                        |       Reference product        | Location |        File        |\n",
      "+----------------------------------------------------+--------------------------------+----------+--------------------+\n",
      "|   hot water tank, carbon dioxide capture process   | hot water tank, carbon dioxide |   RER    | 40t-trucks-EU.xlsx |\n",
      "|       algae harvesting| dry algae production       | algae harvesting| dry algae pr |   RER    | 40t-trucks-EU.xlsx |\n",
      "| electricity production, at power plant/natural gas |   electricity, high voltage    |   RER    | 40t-trucks-EU.xlsx |\n",
      "|     diaphragm compressor module, high pressure     | diaphragm compressor module, h |   GLO    | 40t-trucks-EU.xlsx |\n",
      "|     algae cultivation | algae broth production     | algae cultivation | algae brot |   RER    | 40t-trucks-EU.xlsx |\n",
      "| biogas upgrading - sewage sludge - amine scrubbing | biogas upgrading - sewage slud |   RER    | 40t-trucks-EU.xlsx |\n",
      "|   frequency converter, for diaphragm compressor    | frequency converter, for diaph |   GLO    | 40t-trucks-EU.xlsx |\n",
      "| wiring and tubing, carbon dioxide capture process  | wiring and tubing, carbon diox |   RER    | 40t-trucks-EU.xlsx |\n",
      "|  transformer and rectifier unit, for electrolyzer  | transformer and rectifier unit |   GLO    | 40t-trucks-EU.xlsx |\n",
      "|             drilling, deep borehole/m              |   drilling, deep borehole/m    |   RER    | 40t-trucks-EU.xlsx |\n",
      "| adsorption and desorption unit, carbon dioxide cap | adsorption and desorption unit |   RER    | 40t-trucks-EU.xlsx |\n",
      "|       pumps, carbon dioxide capture process        | pumps, carbon dioxide capture  |   RER    | 40t-trucks-EU.xlsx |\n",
      "|           carbon dioxide capture system            | carbon dioxide capture system  |   RER    | 40t-trucks-EU.xlsx |\n",
      "|   control panel, carbon dioxide capture process    | control panel, carbon dioxide  |   RER    | 40t-trucks-EU.xlsx |\n",
      "|        diaphragms, for diaphragm compressor        | diaphragms, for diaphragm comp |   GLO    | 40t-trucks-EU.xlsx |\n",
      "|    cooling unit, carbon dioxide capture process    | cooling unit, carbon dioxide c |   RER    | 40t-trucks-EU.xlsx |\n",
      "| electricity production, at power plant/hard coal,  |   electricity, high voltage    |   RER    | 40t-trucks-EU.xlsx |\n",
      "| production of nickle-based catalyst for methanatio | production of nickle-based cat |   RER    | 40t-trucks-EU.xlsx |\n",
      "|                   straw pellets                    |         straw pellets          |   RER    | 40t-trucks-EU.xlsx |\n",
      "|   production of 2 wt-% potassium iodide solution   | production of 2 wt-% potassium |   RER    | 40t-trucks-EU.xlsx |\n",
      "|      carbon dioxide, captured from atmosphere      | carbon dioxide, captured from  |   RER    | 40t-trucks-EU.xlsx |\n",
      "|               ethanol without biogas               |     ethanol without biogas     |   RER    | 40t-trucks-EU.xlsx |\n",
      "| electricity production, at power plant/biogas, pos |   electricity, high voltage    |   RER    | 40t-trucks-EU.xlsx |\n",
      "|   heat exchanger, carbon dioxide capture process   | heat exchanger, carbon dioxide |   RER    | 40t-trucks-EU.xlsx |\n",
      "| container, with pipes and fittings, for diaphragm  | container, with pipes and fitt |   GLO    | 40t-trucks-EU.xlsx |\n",
      "|          woodchips from forestry residues          | woodchips from forestry residu |   RER    | 40t-trucks-EU.xlsx |\n",
      "+----------------------------------------------------+--------------------------------+----------+--------------------+\n",
      "Extracted 1 worksheets in 28.68 seconds\n",
      "Extracted 1 worksheets in 39.34 seconds\n",
      "The following datasets to import already exist in the source database. They will not be imported\n",
      "+----------------------------------------------------+--------------------------------+----------+-------------------------+\n",
      "|                        Name                        |       Reference product        | Location |           File          |\n",
      "+----------------------------------------------------+--------------------------------+----------+-------------------------+\n",
      "|   hot water tank, carbon dioxide capture process   | hot water tank, carbon dioxide |   RER    | 40t-trucks-Finland.xlsx |\n",
      "|       algae harvesting| dry algae production       | algae harvesting| dry algae pr |   RER    | 40t-trucks-Finland.xlsx |\n",
      "| electricity production, at power plant/natural gas |   electricity, high voltage    |   RER    | 40t-trucks-Finland.xlsx |\n",
      "|     diaphragm compressor module, high pressure     | diaphragm compressor module, h |   GLO    | 40t-trucks-Finland.xlsx |\n",
      "|                 gearbox, for lorry                 |       gearbox, for lorry       |   RER    | 40t-trucks-Finland.xlsx |\n",
      "|     algae cultivation | algae broth production     | algae cultivation | algae brot |   RER    | 40t-trucks-Finland.xlsx |\n",
      "|        high pressure hydrogen storage tank         | high pressure hydrogen storage |   GLO    | 40t-trucks-Finland.xlsx |\n",
      "| biogas upgrading - sewage sludge - amine scrubbing | biogas upgrading - sewage slud |   RER    | 40t-trucks-Finland.xlsx |\n",
      "|           fuel tank, for diesel vehicle            |           fuel tank            |   RER    | 40t-trucks-Finland.xlsx |\n",
      "| diesel production, synthetic, from electrolysis-ba | diesel, synthetic, vehicle gra |   RER    | 40t-trucks-Finland.xlsx |\n",
      "|              transmission, for lorry               |    transmission, for lorry     |   RER    | 40t-trucks-Finland.xlsx |\n",
      "|   frequency converter, for diaphragm compressor    | frequency converter, for diaph |   GLO    | 40t-trucks-Finland.xlsx |\n",
      "|               suspension, for lorry                |     suspension, for lorry      |   RER    | 40t-trucks-Finland.xlsx |\n",
      "| wiring and tubing, carbon dioxide capture process  | wiring and tubing, carbon diox |   RER    | 40t-trucks-Finland.xlsx |\n",
      "|  transformer and rectifier unit, for electrolyzer  | transformer and rectifier unit |   GLO    | 40t-trucks-Finland.xlsx |\n",
      "|             drilling, deep borehole/m              |   drilling, deep borehole/m    |   RER    | 40t-trucks-Finland.xlsx |\n",
      "| adsorption and desorption unit, carbon dioxide cap | adsorption and desorption unit |   RER    | 40t-trucks-Finland.xlsx |\n",
      "|            power electronics, for lorry            |  power electronics, for lorry  |   RER    | 40t-trucks-Finland.xlsx |\n",
      "|            lead acid battery, for lorry            |  lead acid battery, for lorry  |   RER    | 40t-trucks-Finland.xlsx |\n",
      "|    other components, for hybrid electric lorry     | other components, for hybrid e |   RER    | 40t-trucks-Finland.xlsx |\n",
      "|       pumps, carbon dioxide capture process        | pumps, carbon dioxide capture  |   RER    | 40t-trucks-Finland.xlsx |\n",
      "|           carbon dioxide capture system            | carbon dioxide capture system  |   RER    | 40t-trucks-Finland.xlsx |\n",
      "|   control panel, carbon dioxide capture process    | control panel, carbon dioxide  |   RER    | 40t-trucks-Finland.xlsx |\n",
      "|        diaphragms, for diaphragm compressor        | diaphragms, for diaphragm comp |   GLO    | 40t-trucks-Finland.xlsx |\n",
      "|    cooling unit, carbon dioxide capture process    | cooling unit, carbon dioxide c |   RER    | 40t-trucks-Finland.xlsx |\n",
      "| electricity production, at power plant/hard coal,  |   electricity, high voltage    |   RER    | 40t-trucks-Finland.xlsx |\n",
      "| production of nickle-based catalyst for methanatio | production of nickle-based cat |   RER    | 40t-trucks-Finland.xlsx |\n",
      "|        other components, for electric lorry        | other components, for electric |   RER    | 40t-trucks-Finland.xlsx |\n",
      "| biomethane from biogas upgrading - biowaste - amin |           biomethane           |    CH    | 40t-trucks-Finland.xlsx |\n",
      "|                   straw pellets                    |         straw pellets          |   RER    | 40t-trucks-Finland.xlsx |\n",
      "|   production of 2 wt-% potassium iodide solution   | production of 2 wt-% potassium |   RER    | 40t-trucks-Finland.xlsx |\n",
      "|                retarder, for lorry                 |      retarder, for lorry       |   RER    | 40t-trucks-Finland.xlsx |\n",
      "|      carbon dioxide, captured from atmosphere      | carbon dioxide, captured from  |   RER    | 40t-trucks-Finland.xlsx |\n",
      "|           assembly operation, for lorry            | assembly operation, for lorry  |   RER    | 40t-trucks-Finland.xlsx |\n",
      "|             exhaust system, for lorry              |   exhaust system, for lorry    |   RER    | 40t-trucks-Finland.xlsx |\n",
      "|               ethanol without biogas               |     ethanol without biogas     |   RER    | 40t-trucks-Finland.xlsx |\n",
      "|                  cabin, for lorry                  |        cabin, for lorry        |   RER    | 40t-trucks-Finland.xlsx |\n",
      "| diesel production, synthetic, from electrolysis-ba | diesel, synthetic, vehicle gra |   RER    | 40t-trucks-Finland.xlsx |\n",
      "| electricity production, at power plant/biogas, pos |   electricity, high voltage    |   RER    | 40t-trucks-Finland.xlsx |\n",
      "|        frame, blanks and saddle, for lorry         | frame, blanks and saddle, for  |   RER    | 40t-trucks-Finland.xlsx |\n",
      "|   heat exchanger, carbon dioxide capture process   | heat exchanger, carbon dioxide |   RER    | 40t-trucks-Finland.xlsx |\n",
      "| container, with pipes and fittings, for diaphragm  | container, with pipes and fitt |   GLO    | 40t-trucks-Finland.xlsx |\n",
      "|          woodchips from forestry residues          | woodchips from forestry residu |   RER    | 40t-trucks-Finland.xlsx |\n",
      "|       internal combustion engine, for lorry        | internal combustion engine, fo |   RER    | 40t-trucks-Finland.xlsx |\n",
      "|            tires and wheels, for lorry             |  tires and wheels, for lorry   |   RER    | 40t-trucks-Finland.xlsx |\n",
      "| electricity market for energy storage production,  | electricity, low voltage, for  |    CN    | 40t-trucks-Finland.xlsx |\n",
      "| electricity market for energy storage production,  | electricity, low voltage, for  |    CN    | 40t-trucks-Finland.xlsx |\n",
      "| electricity market for energy storage production,  | electricity, low voltage, for  |    CN    | 40t-trucks-Finland.xlsx |\n",
      "+----------------------------------------------------+--------------------------------+----------+-------------------------+\n"
     ]
    },
    {
     "name": "stdout",
     "output_type": "stream",
     "text": [
      "Done!\n",
      "\n"
     ]
    }
   ],
   "source": [
    "ndb = NewDatabase(\n",
    "scenarios = [\n",
    "    {\"model\":\"remind\", \"pathway\":\"SSP2-Base\", \"year\":2020},\n",
    "    {\"model\":\"remind\", \"pathway\":\"SSP2-Base\", \"year\":2030},\n",
    "    {\"model\":\"remind\", \"pathway\":\"SSP2-Base\", \"year\":2050},\n",
    "    {\"model\":\"remind\", \"pathway\":\"SSP2-PkBudg900\", \"year\":2020},\n",
    "    {\"model\":\"remind\", \"pathway\":\"SSP2-PkBudg900\", \"year\":2030},\n",
    "    {\"model\":\"remind\", \"pathway\":\"SSP2-PkBudg900\", \"year\":2050},\n",
    "],\n",
    "source_db=\"cutoff37\", \n",
    "source_version=\"3.7\",\n",
    "key='tUePmX_S5B8ieZkkM7WUU2CnO8SmShwmAeWK9x2rTFo=', # Ask Romain for your own key!\n",
    "additional_inventories= [\n",
    "        {\"filepath\": r\"40t-trucks-EU.xlsx\", \"ecoinvent version\": \"3.7\"},\n",
    "        {\"filepath\": r\"40t-trucks-Finland.xlsx\", \"ecoinvent version\": \"3.7\"}\n",
    "    ]\n",
    ")"
   ]
  },
  {
   "cell_type": "code",
   "execution_count": null,
   "id": "55124153",
   "metadata": {},
   "outputs": [],
   "source": [
    "ndb.update_all()"
   ]
  },
  {
   "cell_type": "code",
   "execution_count": null,
   "id": "74b1b103",
   "metadata": {},
   "outputs": [],
   "source": [
    "ndb.write_superstructure_db_to_brightway()"
   ]
  },
  {
   "cell_type": "code",
   "execution_count": null,
   "id": "2174ed0a",
   "metadata": {},
   "outputs": [],
   "source": [
    "Or just want to add to brightway (activity browser )"
   ]
  },
  {
   "cell_type": "code",
   "execution_count": null,
   "id": "14f5a516",
   "metadata": {},
   "outputs": [],
   "source": [
    "ndb.write_db_to_brightway()"
   ]
  },
  {
   "cell_type": "markdown",
   "id": "c826da20",
   "metadata": {},
   "source": [
    "If you want to give a custion name for each scenerio. For instance from the example above , there are 6 scenerios. Lest name them ssp2base-2020, ssp2base2030, ssp2base2050, ssp2pkBudg900-2020, ssp2pkBudg900-2030, ssp2pkBudg900-2050\n",
    "scenarios = [\n",
    "    {\"model\":\"remind\", \"pathway\":\"SSP2-Base\", \"year\":2020},\n",
    "    {\"model\":\"remind\", \"pathway\":\"SSP2-Base\", \"year\":2030},\n",
    "    {\"model\":\"remind\", \"pathway\":\"SSP2-Base\", \"year\":2050},\n",
    "    {\"model\":\"remind\", \"pathway\":\"SSP2-PkBudg900\", \"year\":2020},\n",
    "    {\"model\":\"remind\", \"pathway\":\"SSP2-PkBudg900\", \"year\":2030},\n",
    "    {\"model\":\"remind\", \"pathway\":\"SSP2-PkBudg900\", \"year\":2050},\n",
    "],"
   ]
  },
  {
   "cell_type": "code",
   "execution_count": null,
   "id": "faf74e35",
   "metadata": {},
   "outputs": [],
   "source": [
    "ndb.write_db_to_brightway(name=['ssp2base-2020', 'ssp2base2030', 'ssp2base2050', 'ssp2pkBudg900-2020', 'ssp2pkBudg900-2030',' ssp2pkBudg900-2050'])"
   ]
  },
  {
   "cell_type": "markdown",
   "id": "404bad2b",
   "metadata": {},
   "source": [
    "As a SimaPro CSV file"
   ]
  },
  {
   "cell_type": "code",
   "execution_count": null,
   "id": "31170949",
   "metadata": {},
   "outputs": [],
   "source": [
    "ndb.write_db_to_simapro(filepath=r\"insert your file path\")"
   ]
  }
 ],
 "metadata": {
  "kernelspec": {
   "display_name": "Python 3",
   "language": "python",
   "name": "python3"
  },
  "language_info": {
   "codemirror_mode": {
    "name": "ipython",
    "version": 3
   },
   "file_extension": ".py",
   "mimetype": "text/x-python",
   "name": "python",
   "nbconvert_exporter": "python",
   "pygments_lexer": "ipython3",
   "version": "3.9.4"
  }
 },
 "nbformat": 4,
 "nbformat_minor": 5
}
