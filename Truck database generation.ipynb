{
 "cells": [
  {
   "cell_type": "markdown",
   "metadata": {},
   "source": [
    "# Generation of the Truck database"
   ]
  },
  {
   "cell_type": "markdown",
   "metadata": {},
   "source": [
    "Import the library"
   ]
  },
  {
   "cell_type": "code",
   "execution_count": 3,
   "metadata": {},
   "outputs": [],
   "source": [
    "from carculator_truck import *\n",
    "import brightway2 as bw"
   ]
  },
  {
   "cell_type": "code",
   "execution_count": 2,
   "metadata": {},
   "outputs": [
    {
     "data": {
      "text/plain": [
       "(0, 3, 5)"
      ]
     },
     "execution_count": 2,
     "metadata": {},
     "output_type": "execute_result"
    }
   ],
   "source": [
    "import carculator_truck\n",
    "carculator_truck.__version__"
   ]
  },
  {
   "cell_type": "markdown",
   "metadata": {},
   "source": [
    "Load the default vehicles parameters"
   ]
  },
  {
   "cell_type": "code",
   "execution_count": 3,
   "metadata": {},
   "outputs": [],
   "source": [
    "tip = TruckInputParameters()"
   ]
  },
  {
   "cell_type": "code",
   "execution_count": 4,
   "metadata": {},
   "outputs": [],
   "source": [
    "tip.static()"
   ]
  },
  {
   "cell_type": "markdown",
   "metadata": {},
   "source": [
    "Fill-in the array that will be used to create the truck models. Set payload to 8830 kg."
   ]
  },
  {
   "cell_type": "code",
   "execution_count": 5,
   "metadata": {},
   "outputs": [
    {
     "name": "stdout",
     "output_type": "stream",
     "text": [
      "Long haul driving cycle is selected. \n",
      "Vehicles will be designed to achieve a minimal range of 800 km.\n",
      "\n",
      "Finding solutions for trucks...\n",
      "\n",
      "'-' BEV with driving mass superior to the permissible gross weight.\n",
      "'*' ICEV that do not comply with the set energy reduction target.\n",
      "'/' vehicles not available for the specified year.\n",
      "+-------------------+------+\n",
      "| Payload (in tons) | 40t  |\n",
      "+-------------------+------+\n",
      "|    ICEV-d, 2030   | 8.8* |\n",
      "|    ICEV-d, 2050   | 8.8* |\n",
      "|     BEV, 2030     | 8.8  |\n",
      "|     BEV, 2050     | 8.8  |\n",
      "|    PHEV-d, 2030   | 8.8  |\n",
      "|    PHEV-d, 2050   | 8.8  |\n",
      "+-------------------+------+\n"
     ]
    },
    {
     "name": "stderr",
     "output_type": "stream",
     "text": [
      "C:\\Users\\avdoever\\Anaconda3\\envs\\new_carculator\\lib\\site-packages\\xarray\\core\\dataarray.py:780: FutureWarning: elementwise comparison failed; returning scalar instead, but in the future will perform elementwise comparison\n",
      "  return key in self.data\n"
     ]
    }
   ],
   "source": [
    "dcts, array = fill_xarray_from_input_parameters(tip, scope={\"size\":[\"40t\"],\"powertrain\":[\"ICEV-d\",\"BEV\",\"PHEV-d\"], \"year\":[2030,2050]})\n",
    "tm = TruckModel(array, cycle=\"Long haul\")\n",
    "tm.array.loc[dict(parameter=\"total cargo mass\")] = 8830\n",
    "tm.set_all()"
   ]
  },
  {
   "cell_type": "markdown",
   "metadata": {},
   "source": [
    "Set the payload to 19300 kg"
   ]
  },
  {
   "cell_type": "code",
   "execution_count": 6,
   "metadata": {},
   "outputs": [
    {
     "name": "stdout",
     "output_type": "stream",
     "text": [
      "Long haul driving cycle is selected. \n",
      "Vehicles will be designed to achieve a minimal range of 800 km.\n",
      "\n",
      "Finding solutions for trucks...\n",
      "\n",
      "'-' BEV with driving mass superior to the permissible gross weight.\n",
      "'*' ICEV that do not comply with the set energy reduction target.\n",
      "'/' vehicles not available for the specified year.\n",
      "+-------------------+-------+\n",
      "| Payload (in tons) |  40t  |\n",
      "+-------------------+-------+\n",
      "|    ICEV-d, 2030   | 19.3* |\n",
      "|    ICEV-d, 2050   | 19.3* |\n",
      "|     BEV, 2030     |  19.3 |\n",
      "|     BEV, 2050     |  19.3 |\n",
      "|    PHEV-d, 2030   |  19.3 |\n",
      "|    PHEV-d, 2050   |  19.3 |\n",
      "+-------------------+-------+\n"
     ]
    },
    {
     "name": "stderr",
     "output_type": "stream",
     "text": [
      "C:\\Users\\avdoever\\Anaconda3\\envs\\new_carculator\\lib\\site-packages\\xarray\\core\\dataarray.py:780: FutureWarning: elementwise comparison failed; returning scalar instead, but in the future will perform elementwise comparison\n",
      "  return key in self.data\n"
     ]
    }
   ],
   "source": [
    "tm2 = TruckModel(array, cycle=\"Long haul\")\n",
    "tm2.array.loc[dict(parameter=\"total cargo mass\")] = 19300\n",
    "tm2.set_all()"
   ]
  },
  {
   "cell_type": "code",
   "execution_count": 7,
   "metadata": {},
   "outputs": [],
   "source": [
    "dcts_b, array_b = fill_xarray_from_input_parameters(tip, scope={\"size\":[\"40t\"],\"powertrain\":[\"ICEV-d\"], \"year\":[2030,2050]})"
   ]
  },
  {
   "cell_type": "code",
   "execution_count": 8,
   "metadata": {},
   "outputs": [],
   "source": [
    "fuel_blend={\n",
    "         'diesel':{\n",
    "            'primary':{\n",
    "                'type':'biodiesel - cooking oil', \n",
    "                'share':[1, 1] # pure biodiesel, for all years\n",
    "                }\n",
    "            }\n",
    "    }"
   ]
  },
  {
   "cell_type": "code",
   "execution_count": 9,
   "metadata": {},
   "outputs": [
    {
     "name": "stdout",
     "output_type": "stream",
     "text": [
      "Long haul driving cycle is selected. \n",
      "Vehicles will be designed to achieve a minimal range of 800 km.\n",
      "\n",
      "Finding solutions for trucks...\n",
      "\n",
      "'-' BEV with driving mass superior to the permissible gross weight.\n",
      "'*' ICEV that do not comply with the set energy reduction target.\n",
      "'/' vehicles not available for the specified year.\n",
      "+-------------------+------+\n",
      "| Payload (in tons) | 40t  |\n",
      "+-------------------+------+\n",
      "|    ICEV-d, 2030   | 8.8* |\n",
      "|    ICEV-d, 2050   | 8.8* |\n",
      "+-------------------+------+\n"
     ]
    },
    {
     "name": "stderr",
     "output_type": "stream",
     "text": [
      "C:\\Users\\avdoever\\Anaconda3\\envs\\new_carculator\\lib\\site-packages\\xarray\\core\\dataarray.py:780: FutureWarning: elementwise comparison failed; returning scalar instead, but in the future will perform elementwise comparison\n",
      "  return key in self.data\n"
     ]
    }
   ],
   "source": [
    "tm3 = TruckModel(array_b, cycle=\"Long haul\", fuel_blend=fuel_blend)\n",
    "tm3.array.loc[dict(parameter=\"total cargo mass\")] = 8830\n",
    "tm3.set_all()"
   ]
  },
  {
   "cell_type": "code",
   "execution_count": 10,
   "metadata": {},
   "outputs": [
    {
     "name": "stdout",
     "output_type": "stream",
     "text": [
      "Long haul driving cycle is selected. \n",
      "Vehicles will be designed to achieve a minimal range of 800 km.\n",
      "\n",
      "Finding solutions for trucks...\n",
      "\n",
      "'-' BEV with driving mass superior to the permissible gross weight.\n",
      "'*' ICEV that do not comply with the set energy reduction target.\n",
      "'/' vehicles not available for the specified year.\n",
      "+-------------------+-------+\n",
      "| Payload (in tons) |  40t  |\n",
      "+-------------------+-------+\n",
      "|    ICEV-d, 2030   | 19.3* |\n",
      "|    ICEV-d, 2050   | 19.3* |\n",
      "+-------------------+-------+\n"
     ]
    },
    {
     "name": "stderr",
     "output_type": "stream",
     "text": [
      "C:\\Users\\avdoever\\Anaconda3\\envs\\new_carculator\\lib\\site-packages\\xarray\\core\\dataarray.py:780: FutureWarning: elementwise comparison failed; returning scalar instead, but in the future will perform elementwise comparison\n",
      "  return key in self.data\n"
     ]
    }
   ],
   "source": [
    "tm4 = TruckModel(array_b, cycle=\"Long haul\", fuel_blend=fuel_blend)\n",
    "tm4.array.loc[dict(parameter=\"total cargo mass\")] = 19300\n",
    "tm4.set_all()"
   ]
  },
  {
   "cell_type": "markdown",
   "metadata": {},
   "source": [
    "## Export inventories without uncertainty \n",
    "\n",
    "Inventories are exported to an Excel file which can later be imported into `brightway2`. The `export_to_excel()` function returns the filepath where the Excel file can be found (the same directory as the script calling it)."
   ]
  },
  {
   "cell_type": "code",
   "execution_count": 11,
   "metadata": {},
   "outputs": [
    {
     "name": "stderr",
     "output_type": "stream",
     "text": [
      "C:\\Users\\avdoever\\Anaconda3\\envs\\new_carculator\\lib\\site-packages\\xarray\\core\\dataarray.py:780: FutureWarning: elementwise comparison failed; returning scalar instead, but in the future will perform elementwise comparison\n",
      "  return key in self.data\n"
     ]
    }
   ],
   "source": [
    "ic = InventoryCalculation(tm)"
   ]
  },
  {
   "cell_type": "markdown",
   "metadata": {},
   "source": [
    "Here is the call to export the inventories as a Brightway2-compatible Excel file.\n",
    "Note that you can specify a directory where the file should be saved.\n",
    "Otherwise, it will be saved in the root directory of `carculator_truck`"
   ]
  },
  {
   "cell_type": "code",
   "execution_count": 12,
   "metadata": {},
   "outputs": [
    {
     "name": "stdout",
     "output_type": "stream",
     "text": [
      "****************** IMPORTANT BACKGROUND PARAMETERS ******************\n",
      " * The country of use is RER\n",
      " * Energy batteries produced in CN using NMC-622 for BEV, NMC-622 for PHEV-d, .\n",
      " * in 2030, % of renewable: 0%, GHG intensity per kWh: 0 g. CO2-eq.\n",
      " \t * in 2050, % of renewable: 0%, GHG intensity per kWh: 0 g. CO2-eq.\n",
      " * diesel is completed by biodiesel - cooking oil.\n",
      " \t * in 2030 _________________________________________ 6.0%\n",
      " \t * in 2050 _________________________________________ 6.0%\n",
      " * *********************************************************************\n"
     ]
    },
    {
     "name": "stderr",
     "output_type": "stream",
     "text": [
      "0% [##############################] 100% | ETA: 00:00:00 | Item ID: 1006\n",
      "Total time elapsed: 00:00:00\n"
     ]
    },
    {
     "name": "stdout",
     "output_type": "stream",
     "text": [
      "Inventories exported to C:/Users/avdoever/OneDrive - Vrije Universiteit Brussel/PHD/Methodology/LCA data/Carculator\\Trucks-88t.xlsx.\n"
     ]
    },
    {
     "ename": "TypeError",
     "evalue": "cannot unpack non-iterable NoneType object",
     "output_type": "error",
     "traceback": [
      "\u001b[1;31m---------------------------------------------------------------------------\u001b[0m",
      "\u001b[1;31mTypeError\u001b[0m                                 Traceback (most recent call last)",
      "Input \u001b[1;32mIn [12]\u001b[0m, in \u001b[0;36m<cell line: 1>\u001b[1;34m()\u001b[0m\n\u001b[1;32m----> 1\u001b[0m i, _ \u001b[38;5;241m=\u001b[39m ic\u001b[38;5;241m.\u001b[39mexport_lci_to_excel(software_compatibility\u001b[38;5;241m=\u001b[39m\u001b[38;5;124m\"\u001b[39m\u001b[38;5;124mbrightway2\u001b[39m\u001b[38;5;124m\"\u001b[39m,\n\u001b[0;32m      2\u001b[0m                               ecoinvent_version\u001b[38;5;241m=\u001b[39m\u001b[38;5;124m\"\u001b[39m\u001b[38;5;124m3.8\u001b[39m\u001b[38;5;124m\"\u001b[39m, \n\u001b[0;32m      3\u001b[0m                               filename\u001b[38;5;241m=\u001b[39m\u001b[38;5;124m\"\u001b[39m\u001b[38;5;124mTrucks 8.8t\u001b[39m\u001b[38;5;124m\"\u001b[39m,\n\u001b[0;32m      4\u001b[0m                               directory\u001b[38;5;241m=\u001b[39m\u001b[38;5;124mr\u001b[39m\u001b[38;5;124m\"\u001b[39m\u001b[38;5;124mC:/Users/avdoever/OneDrive - Vrije Universiteit Brussel/PHD/Methodology/LCA data/Carculator\u001b[39m\u001b[38;5;124m\"\u001b[39m)\n",
      "\u001b[1;31mTypeError\u001b[0m: cannot unpack non-iterable NoneType object"
     ]
    }
   ],
   "source": [
    "i, _ = ic.export_lci_to_excel(software_compatibility=\"brightway2\",\n",
    "                              ecoinvent_version=\"3.8\", \n",
    "                              filename=\"Trucks 8.8t\",\n",
    "                              directory=r\"C:/Users/avdoever/OneDrive - Vrije Universiteit Brussel/PHD/Methodology/LCA data/Carculator\")"
   ]
  },
  {
   "cell_type": "markdown",
   "metadata": {},
   "source": [
    "The following changes were made manually to the spreadsheet \"Trucks 8.8t\":\n",
    "- All activities named \"transport, freight, lorry, drivetrain X, 40t gross weight, year Y, EURO-VI, long haul\", received the suffix: \"8.8t\". For example: \"transport, freight, lorry, plugin diesel hybrid, 40t gross weight, 2030, EURO-VI, long haul\" became \"transport, freight, lorry, plugin diesel hybrid, 40t gross weight, 2030, EURO-VI, long haul, 8.8t\".\n",
    "- All activities named \"Heavy duty truck, drivetrain X, 40t gross weight, year Y, EURO-VI, long haul\" received the suffix 8.8t.\n",
    "- In the activities \"fuel supply for diesel vehicles, year Y\", the share of fossil diesel was set to 1\n",
    "- In the whole spreadsheet, \"Trucks 8.8t\" was replaced by \"Trucks database\""
   ]
  },
  {
   "cell_type": "code",
   "execution_count": 13,
   "metadata": {},
   "outputs": [
    {
     "name": "stderr",
     "output_type": "stream",
     "text": [
      "C:\\Users\\avdoever\\Anaconda3\\envs\\new_carculator\\lib\\site-packages\\xarray\\core\\dataarray.py:780: FutureWarning: elementwise comparison failed; returning scalar instead, but in the future will perform elementwise comparison\n",
      "  return key in self.data\n"
     ]
    }
   ],
   "source": [
    "ic2 = InventoryCalculation(tm2)"
   ]
  },
  {
   "cell_type": "code",
   "execution_count": 14,
   "metadata": {},
   "outputs": [
    {
     "name": "stdout",
     "output_type": "stream",
     "text": [
      "****************** IMPORTANT BACKGROUND PARAMETERS ******************\n",
      " * The country of use is RER\n",
      " * Energy batteries produced in CN using NMC-622 for BEV, NMC-622 for PHEV-d, .\n",
      " * in 2030, % of renewable: 0%, GHG intensity per kWh: 0 g. CO2-eq.\n",
      " \t * in 2050, % of renewable: 0%, GHG intensity per kWh: 0 g. CO2-eq.\n",
      " * diesel is completed by biodiesel - cooking oil.\n",
      " \t * in 2030 _________________________________________ 6.0%\n",
      " \t * in 2050 _________________________________________ 6.0%\n",
      " * *********************************************************************\n"
     ]
    },
    {
     "name": "stderr",
     "output_type": "stream",
     "text": [
      "0% [##############################] 100% | ETA: 00:00:00 | Item ID: 1006\n",
      "Total time elapsed: 00:00:00\n"
     ]
    },
    {
     "name": "stdout",
     "output_type": "stream",
     "text": [
      "Inventories exported to C:/Users/avdoever/OneDrive - Vrije Universiteit Brussel/PHD/Methodology/LCA data/Carculator\\Trucks-193t.xlsx.\n"
     ]
    },
    {
     "ename": "TypeError",
     "evalue": "cannot unpack non-iterable NoneType object",
     "output_type": "error",
     "traceback": [
      "\u001b[1;31m---------------------------------------------------------------------------\u001b[0m",
      "\u001b[1;31mTypeError\u001b[0m                                 Traceback (most recent call last)",
      "Input \u001b[1;32mIn [14]\u001b[0m, in \u001b[0;36m<cell line: 1>\u001b[1;34m()\u001b[0m\n\u001b[1;32m----> 1\u001b[0m i2, _ \u001b[38;5;241m=\u001b[39m ic2\u001b[38;5;241m.\u001b[39mexport_lci_to_excel(software_compatibility\u001b[38;5;241m=\u001b[39m\u001b[38;5;124m\"\u001b[39m\u001b[38;5;124mbrightway2\u001b[39m\u001b[38;5;124m\"\u001b[39m,\n\u001b[0;32m      2\u001b[0m                               ecoinvent_version\u001b[38;5;241m=\u001b[39m\u001b[38;5;124m\"\u001b[39m\u001b[38;5;124m3.8\u001b[39m\u001b[38;5;124m\"\u001b[39m, \n\u001b[0;32m      3\u001b[0m                               filename\u001b[38;5;241m=\u001b[39m\u001b[38;5;124m\"\u001b[39m\u001b[38;5;124mTrucks 19.3t\u001b[39m\u001b[38;5;124m\"\u001b[39m,\n\u001b[0;32m      4\u001b[0m                               directory\u001b[38;5;241m=\u001b[39m\u001b[38;5;124mr\u001b[39m\u001b[38;5;124m\"\u001b[39m\u001b[38;5;124mC:/Users/avdoever/OneDrive - Vrije Universiteit Brussel/PHD/Methodology/LCA data/Carculator\u001b[39m\u001b[38;5;124m\"\u001b[39m)\n",
      "\u001b[1;31mTypeError\u001b[0m: cannot unpack non-iterable NoneType object"
     ]
    }
   ],
   "source": [
    "i2, _ = ic2.export_lci_to_excel(software_compatibility=\"brightway2\",\n",
    "                              ecoinvent_version=\"3.8\", \n",
    "                              filename=\"Trucks 19.3t\",\n",
    "                              directory=r\"C:/Users/avdoever/OneDrive - Vrije Universiteit Brussel/PHD/Methodology/LCA data/Carculator\")"
   ]
  },
  {
   "cell_type": "markdown",
   "metadata": {},
   "source": [
    "The following changes were made manually to the spreadsheet \"Trucks 19.3t\":\n",
    "\n",
    "- All activities named \"transport, freight, lorry, drivetrain X, 40t gross weight, year Y, EURO-VI, long haul\", received the suffix: \"19.3t\".\n",
    "- All activities named \"Heavy duty truck, drivetrain X, 40t gross weight, year Y, EURO-VI, long haul\" received the suffix 19.3t.\n",
    "- In the activities \"fuel supply for diesel vehicles, year Y\", the share of fossil diesel was set to 1\n",
    "- In the whole spreadsheet, \"Trucks 19.3t\" was replaced by \"Trucks database\""
   ]
  },
  {
   "cell_type": "code",
   "execution_count": 15,
   "metadata": {},
   "outputs": [
    {
     "name": "stderr",
     "output_type": "stream",
     "text": [
      "C:\\Users\\avdoever\\Anaconda3\\envs\\new_carculator\\lib\\site-packages\\xarray\\core\\dataarray.py:780: FutureWarning: elementwise comparison failed; returning scalar instead, but in the future will perform elementwise comparison\n",
      "  return key in self.data\n"
     ]
    }
   ],
   "source": [
    "ic3 = InventoryCalculation(tm3)"
   ]
  },
  {
   "cell_type": "code",
   "execution_count": 17,
   "metadata": {},
   "outputs": [
    {
     "name": "stdout",
     "output_type": "stream",
     "text": [
      "****************** IMPORTANT BACKGROUND PARAMETERS ******************\n",
      " * The country of use is RER\n",
      " * in 2030, % of renewable: 0%, GHG intensity per kWh: 0 g. CO2-eq.\n",
      " \t * in 2050, % of renewable: 0%, GHG intensity per kWh: 0 g. CO2-eq.\n",
      " * biodiesel - cooking oil is completed by diesel.\n",
      " \t * in 2030 _________________________________________ 0%\n",
      " \t * in 2050 _________________________________________ 0%\n",
      " * *********************************************************************\n"
     ]
    },
    {
     "name": "stderr",
     "output_type": "stream",
     "text": [
      "0% [##############################] 100% | ETA: 00:00:00 | Item ID: 996\n",
      "Total time elapsed: 00:00:00\n"
     ]
    },
    {
     "name": "stdout",
     "output_type": "stream",
     "text": [
      "Inventories exported to C:/Users/avdoever/OneDrive - Vrije Universiteit Brussel/PHD/Methodology/LCA data/Carculator\\Trucks-biodiesel-88t.xlsx.\n"
     ]
    },
    {
     "ename": "TypeError",
     "evalue": "cannot unpack non-iterable NoneType object",
     "output_type": "error",
     "traceback": [
      "\u001b[1;31m---------------------------------------------------------------------------\u001b[0m",
      "\u001b[1;31mTypeError\u001b[0m                                 Traceback (most recent call last)",
      "Input \u001b[1;32mIn [17]\u001b[0m, in \u001b[0;36m<cell line: 1>\u001b[1;34m()\u001b[0m\n\u001b[1;32m----> 1\u001b[0m i3, _ \u001b[38;5;241m=\u001b[39m ic3\u001b[38;5;241m.\u001b[39mexport_lci_to_excel(software_compatibility\u001b[38;5;241m=\u001b[39m\u001b[38;5;124m\"\u001b[39m\u001b[38;5;124mbrightway2\u001b[39m\u001b[38;5;124m\"\u001b[39m,\n\u001b[0;32m      2\u001b[0m                               ecoinvent_version\u001b[38;5;241m=\u001b[39m\u001b[38;5;124m\"\u001b[39m\u001b[38;5;124m3.8\u001b[39m\u001b[38;5;124m\"\u001b[39m, \n\u001b[0;32m      3\u001b[0m                               filename\u001b[38;5;241m=\u001b[39m\u001b[38;5;124m\"\u001b[39m\u001b[38;5;124mTrucks biodiesel 8.8t\u001b[39m\u001b[38;5;124m\"\u001b[39m,\n\u001b[0;32m      4\u001b[0m                               directory\u001b[38;5;241m=\u001b[39m\u001b[38;5;124mr\u001b[39m\u001b[38;5;124m\"\u001b[39m\u001b[38;5;124mC:/Users/avdoever/OneDrive - Vrije Universiteit Brussel/PHD/Methodology/LCA data/Carculator\u001b[39m\u001b[38;5;124m\"\u001b[39m)\n",
      "\u001b[1;31mTypeError\u001b[0m: cannot unpack non-iterable NoneType object"
     ]
    }
   ],
   "source": [
    "i3, _ = ic3.export_lci_to_excel(software_compatibility=\"brightway2\",\n",
    "                              ecoinvent_version=\"3.8\", \n",
    "                              filename=\"Trucks biodiesel 8.8t\",\n",
    "                              directory=r\"C:/Users/avdoever/OneDrive - Vrije Universiteit Brussel/PHD/Methodology/LCA data/Carculator\")"
   ]
  },
  {
   "cell_type": "markdown",
   "metadata": {},
   "source": [
    "The following changes were made manually to the spreadsheet \"Trucks biodiesel 8.8t\":\n",
    "\n",
    "- All activities named \"transport, freight, lorry, diesel, 40t gross weight, year Y, EURO-VI, long haul\", were renamed \"transport, freight, lorry, biodiesel, 40t gross weight, year Y, EURO-VI, long haul, 8.8t\".\n",
    "- All activities named \"Heavy duty truck, diesel, 40t gross weight, year Y, EURO-VI, long haul\" were renamed \"Heavy duty truck, biodiesel, 40t gross weight, year Y, EURO-VI, long haul, 8.8t\".\n",
    "- All activities named \"fuel supply for diesel vehicles, year Y\" were renamed \"fuel supply for biodiesel vehicles, year Y\"\n",
    "- In the whole spreadsheet, \"Trucks biodiesel 8.8t\" was replaced by \"Trucks database\""
   ]
  },
  {
   "cell_type": "code",
   "execution_count": 18,
   "metadata": {},
   "outputs": [
    {
     "name": "stderr",
     "output_type": "stream",
     "text": [
      "C:\\Users\\avdoever\\Anaconda3\\envs\\new_carculator\\lib\\site-packages\\xarray\\core\\dataarray.py:780: FutureWarning: elementwise comparison failed; returning scalar instead, but in the future will perform elementwise comparison\n",
      "  return key in self.data\n"
     ]
    }
   ],
   "source": [
    "ic4 = InventoryCalculation(tm4)"
   ]
  },
  {
   "cell_type": "code",
   "execution_count": 19,
   "metadata": {},
   "outputs": [
    {
     "name": "stdout",
     "output_type": "stream",
     "text": [
      "****************** IMPORTANT BACKGROUND PARAMETERS ******************\n",
      " * The country of use is RER\n",
      " * in 2030, % of renewable: 0%, GHG intensity per kWh: 0 g. CO2-eq.\n",
      " \t * in 2050, % of renewable: 0%, GHG intensity per kWh: 0 g. CO2-eq.\n",
      " * biodiesel - cooking oil is completed by diesel.\n",
      " \t * in 2030 _________________________________________ 0%\n",
      " \t * in 2050 _________________________________________ 0%\n",
      " * *********************************************************************\n"
     ]
    },
    {
     "name": "stderr",
     "output_type": "stream",
     "text": [
      "0% [##############################] 100% | ETA: 00:00:00 | Item ID: 996\n",
      "Total time elapsed: 00:00:00\n"
     ]
    },
    {
     "name": "stdout",
     "output_type": "stream",
     "text": [
      "Inventories exported to C:/Users/avdoever/OneDrive - Vrije Universiteit Brussel/PHD/Methodology/LCA data/Carculator\\Trucks-biodiesel-193t.xlsx.\n"
     ]
    },
    {
     "ename": "TypeError",
     "evalue": "cannot unpack non-iterable NoneType object",
     "output_type": "error",
     "traceback": [
      "\u001b[1;31m---------------------------------------------------------------------------\u001b[0m",
      "\u001b[1;31mTypeError\u001b[0m                                 Traceback (most recent call last)",
      "Input \u001b[1;32mIn [19]\u001b[0m, in \u001b[0;36m<cell line: 1>\u001b[1;34m()\u001b[0m\n\u001b[1;32m----> 1\u001b[0m i4, _ \u001b[38;5;241m=\u001b[39m ic4\u001b[38;5;241m.\u001b[39mexport_lci_to_excel(software_compatibility\u001b[38;5;241m=\u001b[39m\u001b[38;5;124m\"\u001b[39m\u001b[38;5;124mbrightway2\u001b[39m\u001b[38;5;124m\"\u001b[39m,\n\u001b[0;32m      2\u001b[0m                               ecoinvent_version\u001b[38;5;241m=\u001b[39m\u001b[38;5;124m\"\u001b[39m\u001b[38;5;124m3.8\u001b[39m\u001b[38;5;124m\"\u001b[39m, \n\u001b[0;32m      3\u001b[0m                               filename\u001b[38;5;241m=\u001b[39m\u001b[38;5;124m\"\u001b[39m\u001b[38;5;124mTrucks biodiesel 19.3t\u001b[39m\u001b[38;5;124m\"\u001b[39m,\n\u001b[0;32m      4\u001b[0m                               directory\u001b[38;5;241m=\u001b[39m\u001b[38;5;124mr\u001b[39m\u001b[38;5;124m\"\u001b[39m\u001b[38;5;124mC:/Users/avdoever/OneDrive - Vrije Universiteit Brussel/PHD/Methodology/LCA data/Carculator\u001b[39m\u001b[38;5;124m\"\u001b[39m)\n",
      "\u001b[1;31mTypeError\u001b[0m: cannot unpack non-iterable NoneType object"
     ]
    }
   ],
   "source": [
    "i4, _ = ic4.export_lci_to_excel(software_compatibility=\"brightway2\",\n",
    "                              ecoinvent_version=\"3.8\", \n",
    "                              filename=\"Trucks biodiesel 19.3t\",\n",
    "                              directory=r\"C:/Users/avdoever/OneDrive - Vrije Universiteit Brussel/PHD/Methodology/LCA data/Carculator\")"
   ]
  },
  {
   "cell_type": "markdown",
   "metadata": {},
   "source": [
    "The following changes were made manually to the spreadsheet \"Trucks biodiesel 19.3t\":\n",
    "\n",
    "- All activities named \"transport, freight, lorry, diesel, 40t gross weight, year Y, EURO-VI, long haul\", were renamed \"transport, freight, lorry, biodiesel, 40t gross weight, year Y, EURO-VI, long haul, 19.3t\".\n",
    "- All activities named \"Heavy duty truck, diesel, 40t gross weight, year Y, EURO-VI, long haul\" were renamed \"Heavy duty truck, biodiesel, 40t gross weight, year Y, EURO-VI, long haul, 19.3t\".\n",
    "- All activities named \"fuel supply for diesel vehicles, year Y\" were renamed \"fuel supply for biodiesel vehicles, year Y\"\n",
    "- In the whole spreadsheet, \"Trucks biodiesel 19.3t\" was replaced by \"Trucks database\"\n",
    "\n",
    "\n",
    "Afterwards all 4 spreadsheets were combined together into 1 database called \"Trucks database\" and all duplicate activities were removed. The Trucks database was then imported to brightway2 and linked to the superstructure database."
   ]
  },
  {
   "cell_type": "code",
   "execution_count": 11,
   "metadata": {},
   "outputs": [
    {
     "name": "stdout",
     "output_type": "stream",
     "text": [
      "Extracted 1 worksheets in 0.88 seconds\n",
      "Applying strategy: csv_restore_tuples\n",
      "Applying strategy: csv_restore_booleans\n",
      "Applying strategy: csv_numerize\n",
      "Applying strategy: csv_drop_unknown\n",
      "Applying strategy: csv_add_missing_exchanges_section\n",
      "Applying strategy: normalize_units\n",
      "Applying strategy: normalize_biosphere_categories\n",
      "Applying strategy: normalize_biosphere_names\n",
      "Applying strategy: strip_biosphere_exc_locations\n",
      "Applying strategy: set_code_by_activity_hash\n",
      "Applying strategy: link_iterable_by_fields\n",
      "Applying strategy: assign_only_product_as_production\n",
      "Applying strategy: link_technosphere_by_activity_hash\n",
      "Applying strategy: drop_falsey_uncertainty_fields_but_keep_zeros\n",
      "Applying strategy: convert_uncertainty_types_to_integers\n",
      "Applying strategy: convert_activity_parameters_to_list\n",
      "Applied 16 strategies in 0.55 seconds\n",
      "Applying strategy: link_iterable_by_fields\n",
      "Applying strategy: link_iterable_by_fields\n",
      "Applying strategy: link_iterable_by_fields\n",
      "Applying strategy: link_iterable_by_fields\n",
      "288 datasets\n",
      "3522 exchanges\n",
      "0 unlinked exchanges\n",
      "  \n"
     ]
    },
    {
     "name": "stderr",
     "output_type": "stream",
     "text": [
      "Writing activities to SQLite3 database:\n",
      "0% [##############################] 100% | ETA: 00:00:00\n",
      "Total time elapsed: 00:00:00\n"
     ]
    },
    {
     "name": "stdout",
     "output_type": "stream",
     "text": [
      "Title: Writing activities to SQLite3 database:\n",
      "  Started: 06/29/2022 12:51:11\n",
      "  Finished: 06/29/2022 12:51:12\n",
      "  Total time elapsed: 00:00:00\n",
      "  CPU %: 83.80\n",
      "  Memory %: 1.13\n",
      "Created database: Trucks database\n"
     ]
    }
   ],
   "source": [
    "import os\n",
    "bw.projects.set_current('Prospective LCA')\n",
    "imp = bw.ExcelImporter(os.path.join(\"Trucks database.xlsx\"))\n",
    "imp.apply_strategies()\n",
    "\n",
    "imp.match_database(fields=[\"name\", \"unit\", \"location\"])\n",
    "if 'additional_biosphere' not in bw.databases:\n",
    "    imp.create_new_biosphere('additional_biosphere')\n",
    "imp.match_database(\"Superstructure database\",  fields=[\"reference product\", \"name\", \"unit\", \"location\"])\n",
    "imp.match_database('biosphere3',  fields=[\"name\", \"unit\", \"categories\"])\n",
    "imp.match_database('additional_biosphere',  fields=[\"name\", \"unit\", \"categories\"])\n",
    "\n",
    "imp.statistics()\n",
    "imp.write_database()"
   ]
  },
  {
   "cell_type": "code",
   "execution_count": null,
   "metadata": {},
   "outputs": [],
   "source": []
  }
 ],
 "metadata": {
  "kernelspec": {
   "display_name": "Python 3 (ipykernel)",
   "language": "python",
   "name": "python3"
  },
  "language_info": {
   "codemirror_mode": {
    "name": "ipython",
    "version": 3
   },
   "file_extension": ".py",
   "mimetype": "text/x-python",
   "name": "python",
   "nbconvert_exporter": "python",
   "pygments_lexer": "ipython3",
   "version": "3.9.12"
  }
 },
 "nbformat": 4,
 "nbformat_minor": 2
}
